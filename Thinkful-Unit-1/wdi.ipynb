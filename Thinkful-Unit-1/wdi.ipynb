{
 "cells": [
  {
   "cell_type": "markdown",
   "metadata": {},
   "source": [
    "Find a dataset you'd like to explore. This can be something you're familiar with or something new. Create a Jupyter notebook and then:\n",
    "\n",
    "1. Choose one variable and plot that variable four different ways.\n",
    "- Choose two continuous variables, and plot them three different ways.\n",
    "- Choose one continuous variable and one categorical variable, and plot them six different ways.\n"
   ]
  },
  {
   "cell_type": "code",
   "execution_count": 1,
   "metadata": {},
   "outputs": [],
   "source": [
    "import numpy as np\n",
    "import pandas as pd\n",
    "import matplotlib.pyplot as plt\n",
    "import seaborn as sns\n",
    "%matplotlib inline"
   ]
  },
  {
   "cell_type": "code",
   "execution_count": 2,
   "metadata": {},
   "outputs": [],
   "source": [
    "# wdi contains information for nearly all countries in the world. I want to extract data on internet usage in Vietnam.\n",
    "# Code for internet use: IT.NET.USER.ZS\n",
    "# Mobile subscriptions: IT.CEL.SETS\n",
    "# Vietnam country code: VNM\n",
    "# Secure Internet Servers: IT.NET.SECR\n",
    "# GDP Per Capita USD : NY.GDP.PCAP.CD\n",
    "# India country code: IND\n",
    "\n",
    "wdi = pd.read_csv(\"wdi.csv\")"
   ]
  },
  {
   "cell_type": "code",
   "execution_count": 3,
   "metadata": {},
   "outputs": [],
   "source": [
    "vn = wdi[wdi[\"Country Code\"] == \"VNM\"]\n",
    "ind = wdi[wdi[\"Country Code\"] == \"IND\"]\n"
   ]
  },
  {
   "cell_type": "code",
   "execution_count": 5,
   "metadata": {},
   "outputs": [],
   "source": [
    "internet = wdi[wdi[\"Indicator Code\"] == \"IT.NET.USER.ZS\"]\n",
    "electricity = wdi[wdi[\"Indicator Code\"] == \"EG.ELC.ACCS.ZS\"]\n",
    "mobile = wdi[wdi[\"Indicator Code\"] == \"IT.CEL.SETS\"]\n",
    "securei = wdi[wdi[\"Indicator Code\"] == \"IT.NET.SECR\"]\n",
    "gdp = wdi[wdi[\"Indicator Code\"] == \"NY.GDP.PCAP.CD\"]"
   ]
  },
  {
   "cell_type": "code",
   "execution_count": 6,
   "metadata": {},
   "outputs": [],
   "source": [
    "wdi_2 = gdp.append(electricity).append(internet).append(securei).append(mobile)\n",
    "wdi_2 = pd.DataFrame(wdi_2)"
   ]
  },
  {
   "cell_type": "code",
   "execution_count": 26,
   "metadata": {},
   "outputs": [],
   "source": [
    "vn_2 = wdi_2[wdi_2[\"Country Code\"] == \"VNM\"]\n",
    "ind = wdi_2[wdi_2[\"Country Code\"] == \"IND\"]\n",
    "mmr = wdi_2[wdi_2[\"Country Code\"] == \"MMR\"]\n",
    "eth = wdi_2[wdi_2[\"Country Code\"] == \"ETH\"]\n",
    "syr = wdi_2[wdi_2[\"Country Code\"] == \"SYR\"]\n",
    "bgd = wdi_2[wdi_2[\"Country Code\"] == \"BGD\"]\n",
    "lka = wdi_2[wdi_2[\"Country Code\"] == \"LKA\"]\n",
    "\n",
    "countrylist = [vn_2, ind, mmr, eth, syr, bgd, lka]\n",
    "\n",
    "for x in countrylist:\n",
    "    x = x.drop(columns = ['Country Name', 'Country Code', 'Indicator Code'])\n",
    "    x = x.transpose()\n",
    "    x = x.dropna()\n",
    "    x = pd.DataFrame(x)\n",
    "    x.columns = [\"GDP Per Capita\",\"Access to electricity (% of population)\",\"Individuals using the Internet (% of population)\",\"Secure Internet servers\",\"Mobile cellular subscriptions\"]\n",
    "    x = x.drop(\"Indicator Name\")"
   ]
  },
  {
   "cell_type": "code",
   "execution_count": 9,
   "metadata": {},
   "outputs": [],
   "source": [
    "vn_2 = vn_2.drop(columns = ['Country Name', 'Country Code', 'Indicator Code'])"
   ]
  },
  {
   "cell_type": "code",
   "execution_count": 10,
   "metadata": {},
   "outputs": [],
   "source": [
    "vn_2 = vn_2.transpose()"
   ]
  },
  {
   "cell_type": "code",
   "execution_count": 11,
   "metadata": {},
   "outputs": [],
   "source": [
    "vn_2 = vn_2.dropna()"
   ]
  },
  {
   "cell_type": "code",
   "execution_count": 12,
   "metadata": {},
   "outputs": [],
   "source": [
    "vn_2 = pd.DataFrame(vn_2)"
   ]
  },
  {
   "cell_type": "code",
   "execution_count": 13,
   "metadata": {},
   "outputs": [],
   "source": [
    "vn_2.columns = [\"GDP Per Capita\",\"Access to electricity (% of population)\",\"Individuals using the Internet (% of population)\",\"Secure Internet servers\",\"Mobile cellular subscriptions\"]\n"
   ]
  },
  {
   "cell_type": "code",
   "execution_count": 14,
   "metadata": {},
   "outputs": [],
   "source": [
    "vn_2 = vn_2.drop(\"Indicator Name\")"
   ]
  },
  {
   "cell_type": "code",
   "execution_count": 15,
   "metadata": {},
   "outputs": [
    {
     "data": {
      "text/html": [
       "<div>\n",
       "<style scoped>\n",
       "    .dataframe tbody tr th:only-of-type {\n",
       "        vertical-align: middle;\n",
       "    }\n",
       "\n",
       "    .dataframe tbody tr th {\n",
       "        vertical-align: top;\n",
       "    }\n",
       "\n",
       "    .dataframe thead th {\n",
       "        text-align: right;\n",
       "    }\n",
       "</style>\n",
       "<table border=\"1\" class=\"dataframe\">\n",
       "  <thead>\n",
       "    <tr style=\"text-align: right;\">\n",
       "      <th></th>\n",
       "      <th>GDP Per Capita</th>\n",
       "      <th>Access to electricity (% of population)</th>\n",
       "      <th>Individuals using the Internet (% of population)</th>\n",
       "      <th>Secure Internet servers</th>\n",
       "      <th>Mobile cellular subscriptions</th>\n",
       "    </tr>\n",
       "  </thead>\n",
       "  <tbody>\n",
       "    <tr>\n",
       "      <th>2010</th>\n",
       "      <td>1310.37</td>\n",
       "      <td>97.5911</td>\n",
       "      <td>30.65</td>\n",
       "      <td>202</td>\n",
       "      <td>1.1157e+08</td>\n",
       "    </tr>\n",
       "    <tr>\n",
       "      <th>2011</th>\n",
       "      <td>1515.48</td>\n",
       "      <td>99</td>\n",
       "      <td>35.07</td>\n",
       "      <td>327</td>\n",
       "      <td>1.27318e+08</td>\n",
       "    </tr>\n",
       "    <tr>\n",
       "      <th>2012</th>\n",
       "      <td>1722.68</td>\n",
       "      <td>100</td>\n",
       "      <td>36.8</td>\n",
       "      <td>812</td>\n",
       "      <td>1.31674e+08</td>\n",
       "    </tr>\n",
       "    <tr>\n",
       "      <th>2013</th>\n",
       "      <td>1871.33</td>\n",
       "      <td>100</td>\n",
       "      <td>38.5</td>\n",
       "      <td>1286</td>\n",
       "      <td>1.23736e+08</td>\n",
       "    </tr>\n",
       "    <tr>\n",
       "      <th>2014</th>\n",
       "      <td>2012.05</td>\n",
       "      <td>99.2</td>\n",
       "      <td>41</td>\n",
       "      <td>1864</td>\n",
       "      <td>1.36148e+08</td>\n",
       "    </tr>\n",
       "    <tr>\n",
       "      <th>2015</th>\n",
       "      <td>2065.17</td>\n",
       "      <td>100</td>\n",
       "      <td>43.5</td>\n",
       "      <td>3033</td>\n",
       "      <td>1.20324e+08</td>\n",
       "    </tr>\n",
       "    <tr>\n",
       "      <th>2016</th>\n",
       "      <td>2170.65</td>\n",
       "      <td>100</td>\n",
       "      <td>46.5</td>\n",
       "      <td>26098</td>\n",
       "      <td>1.206e+08</td>\n",
       "    </tr>\n",
       "  </tbody>\n",
       "</table>\n",
       "</div>"
      ],
      "text/plain": [
       "     GDP Per Capita Access to electricity (% of population)  \\\n",
       "2010        1310.37                                 97.5911   \n",
       "2011        1515.48                                      99   \n",
       "2012        1722.68                                     100   \n",
       "2013        1871.33                                     100   \n",
       "2014        2012.05                                    99.2   \n",
       "2015        2065.17                                     100   \n",
       "2016        2170.65                                     100   \n",
       "\n",
       "     Individuals using the Internet (% of population) Secure Internet servers  \\\n",
       "2010                                            30.65                     202   \n",
       "2011                                            35.07                     327   \n",
       "2012                                             36.8                     812   \n",
       "2013                                             38.5                    1286   \n",
       "2014                                               41                    1864   \n",
       "2015                                             43.5                    3033   \n",
       "2016                                             46.5                   26098   \n",
       "\n",
       "     Mobile cellular subscriptions  \n",
       "2010                    1.1157e+08  \n",
       "2011                   1.27318e+08  \n",
       "2012                   1.31674e+08  \n",
       "2013                   1.23736e+08  \n",
       "2014                   1.36148e+08  \n",
       "2015                   1.20324e+08  \n",
       "2016                     1.206e+08  "
      ]
     },
     "execution_count": 15,
     "metadata": {},
     "output_type": "execute_result"
    }
   ],
   "source": [
    "vn_2"
   ]
  },
  {
   "cell_type": "code",
   "execution_count": 16,
   "metadata": {},
   "outputs": [],
   "source": [
    "years = [\"2010\", \"2011\", \"2012\", \"2013\", \"2014\", \"2015\", \"2016\"]\n",
    "vn_2 = vn_2.assign(Year = years)\n"
   ]
  },
  {
   "cell_type": "code",
   "execution_count": 17,
   "metadata": {},
   "outputs": [],
   "source": [
    "vn_2 = vn_2[['Year','GDP Per Capita',\n",
    " 'Access to electricity (% of population)',\n",
    " 'Individuals using the Internet (% of population)',\n",
    " 'Secure Internet servers',\n",
    " 'Mobile cellular subscriptions',]]"
   ]
  },
  {
   "cell_type": "code",
   "execution_count": 18,
   "metadata": {},
   "outputs": [],
   "source": [
    "vn_2 = vn_2.reset_index(drop=True)"
   ]
  },
  {
   "cell_type": "code",
   "execution_count": 19,
   "metadata": {},
   "outputs": [],
   "source": [
    "vn_2 = vn_2.astype(float)"
   ]
  },
  {
   "cell_type": "code",
   "execution_count": 24,
   "metadata": {},
   "outputs": [
    {
     "data": {
      "text/html": [
       "<div>\n",
       "<style scoped>\n",
       "    .dataframe tbody tr th:only-of-type {\n",
       "        vertical-align: middle;\n",
       "    }\n",
       "\n",
       "    .dataframe tbody tr th {\n",
       "        vertical-align: top;\n",
       "    }\n",
       "\n",
       "    .dataframe thead th {\n",
       "        text-align: right;\n",
       "    }\n",
       "</style>\n",
       "<table border=\"1\" class=\"dataframe\">\n",
       "  <thead>\n",
       "    <tr style=\"text-align: right;\">\n",
       "      <th></th>\n",
       "      <th>Year</th>\n",
       "      <th>GDP Per Capita</th>\n",
       "      <th>Access to electricity (% of population)</th>\n",
       "      <th>Individuals using the Internet (% of population)</th>\n",
       "      <th>Secure Internet servers</th>\n",
       "      <th>Mobile cellular subscriptions</th>\n",
       "    </tr>\n",
       "  </thead>\n",
       "  <tbody>\n",
       "    <tr>\n",
       "      <th>0</th>\n",
       "      <td>2010.0</td>\n",
       "      <td>1310.370273</td>\n",
       "      <td>97.591133</td>\n",
       "      <td>30.65</td>\n",
       "      <td>202.0</td>\n",
       "      <td>111570201.0</td>\n",
       "    </tr>\n",
       "    <tr>\n",
       "      <th>1</th>\n",
       "      <td>2011.0</td>\n",
       "      <td>1515.479925</td>\n",
       "      <td>99.000000</td>\n",
       "      <td>35.07</td>\n",
       "      <td>327.0</td>\n",
       "      <td>127318045.0</td>\n",
       "    </tr>\n",
       "    <tr>\n",
       "      <th>2</th>\n",
       "      <td>2012.0</td>\n",
       "      <td>1722.683931</td>\n",
       "      <td>100.000000</td>\n",
       "      <td>36.80</td>\n",
       "      <td>812.0</td>\n",
       "      <td>131673724.0</td>\n",
       "    </tr>\n",
       "    <tr>\n",
       "      <th>3</th>\n",
       "      <td>2013.0</td>\n",
       "      <td>1871.325491</td>\n",
       "      <td>100.000000</td>\n",
       "      <td>38.50</td>\n",
       "      <td>1286.0</td>\n",
       "      <td>123735557.0</td>\n",
       "    </tr>\n",
       "    <tr>\n",
       "      <th>4</th>\n",
       "      <td>2014.0</td>\n",
       "      <td>2012.046290</td>\n",
       "      <td>99.200000</td>\n",
       "      <td>41.00</td>\n",
       "      <td>1864.0</td>\n",
       "      <td>136148124.0</td>\n",
       "    </tr>\n",
       "    <tr>\n",
       "      <th>5</th>\n",
       "      <td>2015.0</td>\n",
       "      <td>2065.169099</td>\n",
       "      <td>100.000000</td>\n",
       "      <td>43.50</td>\n",
       "      <td>3033.0</td>\n",
       "      <td>120324052.0</td>\n",
       "    </tr>\n",
       "    <tr>\n",
       "      <th>6</th>\n",
       "      <td>2016.0</td>\n",
       "      <td>2170.648054</td>\n",
       "      <td>100.000000</td>\n",
       "      <td>46.50</td>\n",
       "      <td>26098.0</td>\n",
       "      <td>120600235.0</td>\n",
       "    </tr>\n",
       "  </tbody>\n",
       "</table>\n",
       "</div>"
      ],
      "text/plain": [
       "     Year  GDP Per Capita  Access to electricity (% of population)  \\\n",
       "0  2010.0     1310.370273                                97.591133   \n",
       "1  2011.0     1515.479925                                99.000000   \n",
       "2  2012.0     1722.683931                               100.000000   \n",
       "3  2013.0     1871.325491                               100.000000   \n",
       "4  2014.0     2012.046290                                99.200000   \n",
       "5  2015.0     2065.169099                               100.000000   \n",
       "6  2016.0     2170.648054                               100.000000   \n",
       "\n",
       "   Individuals using the Internet (% of population)  Secure Internet servers  \\\n",
       "0                                             30.65                    202.0   \n",
       "1                                             35.07                    327.0   \n",
       "2                                             36.80                    812.0   \n",
       "3                                             38.50                   1286.0   \n",
       "4                                             41.00                   1864.0   \n",
       "5                                             43.50                   3033.0   \n",
       "6                                             46.50                  26098.0   \n",
       "\n",
       "   Mobile cellular subscriptions  \n",
       "0                    111570201.0  \n",
       "1                    127318045.0  \n",
       "2                    131673724.0  \n",
       "3                    123735557.0  \n",
       "4                    136148124.0  \n",
       "5                    120324052.0  \n",
       "6                    120600235.0  "
      ]
     },
     "execution_count": 24,
     "metadata": {},
     "output_type": "execute_result"
    }
   ],
   "source": [
    "vn_2"
   ]
  },
  {
   "cell_type": "markdown",
   "metadata": {},
   "source": [
    "# Choose one variable and plot that variable four different ways."
   ]
  },
  {
   "cell_type": "code",
   "execution_count": 20,
   "metadata": {},
   "outputs": [
    {
     "data": {
      "image/png": "[encoded data removed]",
      "text/plain": [
       "<Figure size 625.975x360 with 1 Axes>"
      ]
     },
     "metadata": {},
     "output_type": "display_data"
    }
   ],
   "source": [
    "sns.set()\n",
    "sns.relplot(x=\"Year\", y=\"GDP Per Capita\",\n",
    "            size=\"Individuals using the Internet (% of population)\",\n",
    "            data=vn_2);\n"
   ]
  },
  {
   "cell_type": "code",
   "execution_count": 21,
   "metadata": {},
   "outputs": [
    {
     "data": {
      "image/png": "[encoded data removed]",
      "text/plain": [
       "<Figure size 360x360 with 1 Axes>"
      ]
     },
     "metadata": {},
     "output_type": "display_data"
    }
   ],
   "source": [
    "sns.set()\n",
    "sns.relplot(x=\"Year\", y=\"GDP Per Capita\",\n",
    "            kind=\"line\",\n",
    "            data=vn_2);"
   ]
  },
  {
   "cell_type": "code",
   "execution_count": 22,
   "metadata": {},
   "outputs": [
    {
     "data": {
      "image/png": "[encoded data removed]",
      "text/plain": [
       "<Figure size 360x360 with 1 Axes>"
      ]
     },
     "metadata": {},
     "output_type": "display_data"
    }
   ],
   "source": [
    "sns.set()\n",
    "sns.catplot(x=\"Year\", y=\"GDP Per Capita\",\n",
    "            kind=\"bar\",\n",
    "            data=vn_2);"
   ]
  },
  {
   "cell_type": "code",
   "execution_count": 23,
   "metadata": {},
   "outputs": [
    {
     "data": {
      "text/plain": [
       "<matplotlib.axes._subplots.AxesSubplot at 0xe42d670>"
      ]
     },
     "execution_count": 23,
     "metadata": {},
     "output_type": "execute_result"
    },
    {
     "data": {
      "image/png": "[encoded data removed]",
      "text/plain": [
       "<Figure size 432x288 with 1 Axes>"
      ]
     },
     "metadata": {},
     "output_type": "display_data"
    }
   ],
   "source": [
    "sns.set()\n",
    "sns.distplot(vn_2[\"GDP Per Capita\"], kde=False, color=\"b\", bins=4)"
   ]
  }
 ],
 "metadata": {
  "kernelspec": {
   "display_name": "Python 3",
   "language": "python",
   "name": "python3"
  },
  "language_info": {
   "codemirror_mode": {
    "name": "ipython",
    "version": 3
   },
   "file_extension": ".py",
   "mimetype": "text/x-python",
   "name": "python",
   "nbconvert_exporter": "python",
   "pygments_lexer": "ipython3",
   "version": "3.7.2"
  }
 },
 "nbformat": 4,
 "nbformat_minor": 2
}
