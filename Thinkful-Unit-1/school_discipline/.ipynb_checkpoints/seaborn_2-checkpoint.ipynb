{
 "cells": [
  {
   "cell_type": "code",
   "execution_count": 1,
   "metadata": {},
   "outputs": [],
   "source": [
    "\n",
    "import numpy as np\n",
    "import pandas as pd\n",
    "import matplotlib.pyplot as plt\n",
    "import seaborn as sns\n",
    "%matplotlib inline\n"
   ]
  },
  {
   "cell_type": "code",
   "execution_count": 7,
   "metadata": {},
   "outputs": [],
   "source": [
    "\n",
    "sd = pd.read_csv('sd_major_cities.csv')\n"
   ]
  },
  {
   "cell_type": "code",
   "execution_count": 17,
   "metadata": {},
   "outputs": [],
   "source": [
    "\n",
    "sd_susp = sd[(sd[\"Category\"] == \"Students receiving more than one out-of-school suspension\")]\n",
    "sd_susp = sd_susp.replace(1200390, \"Dade County\")\n",
    "sd_susp = sd_susp.replace(4823640, \"Houston ISD\")\n",
    "sd_susp = sd_susp.replace(3620580, \"NYC Public Schools\")\n",
    "sd_susp = sd_susp.replace(622710, \"LA Unifed\")\n",
    "sd_susp = sd_susp.replace(3200060, \"Clark County\")\n",
    "sd_susp = sd_susp.replace(1709930, \"City of Chicago\")\n",
    "\n",
    "sds_totals = sd_susp[[\"ID\", \"Year\", \"Total\"]]\n",
    "\n",
    "sds_2015 = sds_totals[sds_totals[\"Year\"] == 2015]"
   ]
  },
  {
   "cell_type": "code",
   "execution_count": null,
   "metadata": {},
   "outputs": [],
   "source": []
  }
 ],
 "metadata": {
  "kernelspec": {
   "display_name": "Python 3",
   "language": "python",
   "name": "python3"
  },
  "language_info": {
   "codemirror_mode": {
    "name": "ipython",
    "version": 3
   },
   "file_extension": ".py",
   "mimetype": "text/x-python",
   "name": "python",
   "nbconvert_exporter": "python",
   "pygments_lexer": "ipython3",
   "version": "3.7.2"
  }
 },
 "nbformat": 4,
 "nbformat_minor": 2
}
