{
 "cells": [
  {
   "cell_type": "markdown",
   "metadata": {},
   "source": [
    "Find a dataset you'd like to explore. This can be something you're familiar with or something new. Create a Jupyter notebook and then:\n",
    "\n",
    "- Choose one variable and plot that variable four different ways.\n",
    "- Choose two continuous variables, and plot them three different ways.\n",
    "- Choose one continuous variable and one categorical variable, and plot them six different ways.\n",
    "\n"
   ]
  },
  {
   "cell_type": "code",
   "execution_count": 1,
   "metadata": {},
   "outputs": [],
   "source": [
    "\n",
    "import numpy as np\n",
    "import pandas as pd\n",
    "import matplotlib.pyplot as plt\n",
    "import seaborn as sns\n",
    "%matplotlib inline\n"
   ]
  },
  {
   "cell_type": "code",
   "execution_count": 2,
   "metadata": {},
   "outputs": [],
   "source": [
    "\n",
    "sd = pd.read_csv('sd_major_cities.csv')\n"
   ]
  },
  {
   "cell_type": "code",
   "execution_count": 14,
   "metadata": {},
   "outputs": [],
   "source": [
    "sd_2015 = sd[sd[\"Year\"] == 2015]\n",
    "sd_2013 = sd[sd[\"Year\"] == 2013]\n",
    "sd_2011 = sd[sd[\"Year\"] == 2011]\n",
    "sd_2009 = sd[sd[\"Year\"] == 2009]\n",
    "\n",
    "las_09 = sd_2009[(sd_2009[\"Category\"] == \"Students receiving more than one out-of-school suspension\") & (sd_2009[\"LEA\"] == \"LOS ANGELES UNIFIED\")]\n",
    "las_11 = sd_2011[(sd_2011[\"Category\"] == \"Students receiving more than one out-of-school suspension\") & (sd_2011[\"LEA\"] == \"LOS ANGELES UNIFIED\")]\n",
    "las_13 = sd_2013[(sd_2013[\"Category\"] == \"Students receiving more than one out-of-school suspension\") & (sd_2013[\"LEA\"] == \"LOS ANGELES UNIFIED\")]\n",
    "las_15 = sd_2015[(sd_2015[\"Category\"] == \"Students receiving more than one out-of-school suspension\") & (sd_2015[\"LEA\"] == \"LOS ANGELES UNIFIED\")]\n",
    "\n"
   ]
  },
  {
   "cell_type": "code",
   "execution_count": 26,
   "metadata": {},
   "outputs": [],
   "source": [
    "last_09 = las_09[[\"Year\",\"Total\"]]\n",
    "last_11 = las_11[[\"Year\",\"Total\"]]\n",
    "last_13 = las_13[[\"Year\",\"Total\"]]\n",
    "last_15 = las_15[[\"Year\",\"Total\"]]"
   ]
  },
  {
   "cell_type": "code",
   "execution_count": 30,
   "metadata": {},
   "outputs": [
    {
     "name": "stdout",
     "output_type": "stream",
     "text": [
      "     Year    Total\n",
      "39   2009  12360.0\n",
      "99   2011   2026.0\n",
      "129  2013    543.0\n",
      "4    2015    388.0\n"
     ]
    }
   ],
   "source": [
    "last = last_09.append(last_11).append(last_13).append(last_15)\n",
    "\n",
    "print(last)"
   ]
  },
  {
   "cell_type": "code",
   "execution_count": 32,
   "metadata": {},
   "outputs": [],
   "source": [
    "sns.set()\n"
   ]
  },
  {
   "cell_type": "code",
   "execution_count": null,
   "metadata": {},
   "outputs": [],
   "source": [
    "for x in years_list:\n",
    "    la_susp = x[(x[\"Category\"] == \"Students receiving more than one out-of-school suspension\") & (x[\"LEA\"] == \"LOS ANGELES UNIFIED\")]\n",
    "\n",
    "    \n",
    "print(la_susp)"
   ]
  }
 ],
 "metadata": {
  "kernelspec": {
   "display_name": "Python 3",
   "language": "python",
   "name": "python3"
  },
  "language_info": {
   "codemirror_mode": {
    "name": "ipython",
    "version": 3
   },
   "file_extension": ".py",
   "mimetype": "text/x-python",
   "name": "python",
   "nbconvert_exporter": "python",
   "pygments_lexer": "ipython3",
   "version": "3.7.2"
  }
 },
 "nbformat": 4,
 "nbformat_minor": 2
}
