{
 "cells": [
  {
   "cell_type": "markdown",
   "metadata": {},
   "source": [
    "> The Sith Lords are concerned that their recruiting slogan, \"Give In to Your Anger,\" isn't very effective. Darth Vader develops an alternative slogan, \"Together We Can Rule the Galaxy.\" They compare the slogans on two groups of 50 captured droids each. In one group, Emperor Palpatine delivers the \"Anger\" slogan. In the other, Darth Vader presents the \"Together\" slogan. 20 droids convert to the Dark Side after hearing Palpatine's slogan, while only 5 droids convert after hearing Vader's. The Sith's data scientist concludes that \"Anger\" is a more effective slogan and should continue to be used. "
   ]
  },
  {
   "cell_type": "markdown",
   "metadata": {},
   "source": [
    "## Problem\n",
    "\n",
    "Captured droids are not converting to the Dark Side. This is a problem because without recruits, the Dark Side cannot continue to grow and conquer. \n",
    "\n",
    "## Solution\n",
    "\n",
    "A potential solution could be to improve the recruiting slogan, which is currently: \"Give In to Your Anger.\" It can be replaced with the slogan: \"Together We Can Rule the Galaxy.\"\n",
    "\n",
    "## Method\n",
    "\n",
    "### Design\n",
    "\n",
    "When the next 100 droids are captured, split them randomly into two groups. Have Darth Vadar record two messages. In one message, Vadar gives the original slogan. In the other, Vadar gives the new slogan. \n",
    "\n",
    "### Analysis\n",
    "\n",
    "After all 100 captured droids receive messages. Allow some time to see if droids convert. \n",
    "\n",
    "\n",
    "### Benchmark\n",
    "\n",
    "Give droids one week to convert after receiving the message. If the droids that received the new message convert more than one standard deviation from the original, change the slogan and continue to monitor the next 100 captured droids. \n"
   ]
  }
 ],
 "metadata": {
  "kernelspec": {
   "display_name": "Python 3",
   "language": "python",
   "name": "python3"
  },
  "language_info": {
   "codemirror_mode": {
    "name": "ipython",
    "version": 3
   },
   "file_extension": ".py",
   "mimetype": "text/x-python",
   "name": "python",
   "nbconvert_exporter": "python",
   "pygments_lexer": "ipython3",
   "version": "3.7.2"
  }
 },
 "nbformat": 4,
 "nbformat_minor": 2
}
