{
 "cells": [
  {
   "cell_type": "code",
   "execution_count": 8,
   "metadata": {},
   "outputs": [
    {
     "data": {
      "text/plain": [
       "3.7139067635410377"
      ]
     },
     "execution_count": 8,
     "metadata": {},
     "output_type": "execute_result"
    }
   ],
   "source": [
    "import numpy as np\n",
    "import pandas as pd\n",
    "import matplotlib.pyplot as plt\n",
    "import seaborn as sns\n",
    "import scipy.stats\n",
    "import math\n",
    "\n",
    "s1 = (5-8)/math.sqrt((1/200)+(9/500))\n",
    "s1\n",
    "\n",
    "s2 = (1090-999)/math.sqrt(((400*400)/900)+((30*30)/100))\n",
    "s2\n",
    "\n",
    "s3 = (45-40)/math.sqrt(((45*45)/2000)+((40*40)/2000))\n",
    "s3"
   ]
  }
 ],
 "metadata": {
  "kernelspec": {
   "display_name": "Python 3",
   "language": "python",
   "name": "python3"
  }
 },
 "nbformat": 4,
 "nbformat_minor": 2
}
