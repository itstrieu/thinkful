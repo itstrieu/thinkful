{
 "cells": [
  {
   "cell_type": "markdown",
   "metadata": {},
   "source": [
    "**A diagnostic test has a 98% probability of giving a positive result when applied to a person suffering from Thripshaw's Disease, and 10% probability of giving a (false) positive when applied to a non-sufferer. It is estimated that 0.5 % of the population are sufferers. Suppose that the test is now administered to a person whose disease status is unknown.** \n",
    "\n",
    "Calculate the probability that the test will:\n",
    "\n",
    "- Be positive\n",
    "- Correctly diagnose a sufferer of Thripshaw's\n",
    "- Correctly identify a non-sufferer of Thripshaw's\n",
    "- Misclassify the person\n",
    "\n"
   ]
  },
  {
   "cell_type": "markdown",
   "metadata": {},
   "source": [
    "To solve this problem, let's start off with a population of 100,000. \n",
    "\n",
    "- Of 100,000 people, 500 (0.5%) are sufferers and 99,500 (99.5%) are not. \n",
    "- Of the 500 sufferers, 10 (2%) will receive a false negative, and 490 (98%) will receive correct positives.\n",
    "- Of the 99,500 non-sufferers, 9,950 (10%) will receive false positives and 89,550 (90%) will receive correct negatives. \n"
   ]
  },
  {
   "cell_type": "markdown",
   "metadata": {},
   "source": [
    "(.5 * .98) + (99.5 * .1) = 10.44%\n",
    "- There is a 10.44% chance the test will be positive. \n",
    "\n",
    ".5 * .98 = 0.49%\n",
    "- There is a .49% chance the test will correctly diagnose a sufferer. \n",
    "\n",
    "99.5 * .90 = 89.55% or 89,550/100000 * 100\n",
    "- There is a 97.51 chance the person will be correctly diagnosed a non-sufferer. \n",
    "\n",
    "(.5 * .2) + (99.5 * .1) = 9.96% or (10+9950)/100000 * 100\n",
    "- There is a 9.96% chance the person will be misclassified. \n"
   ]
  },
  {
   "cell_type": "code",
   "execution_count": null,
   "metadata": {},
   "outputs": [],
   "source": []
  }
 ],
 "metadata": {
  "kernelspec": {
   "display_name": "Python 3",
   "language": "python",
   "name": "python3"
  },
  "language_info": {
   "codemirror_mode": {
    "name": "ipython",
    "version": 3
   },
   "file_extension": ".py",
   "mimetype": "text/x-python",
   "name": "python",
   "nbconvert_exporter": "python",
   "pygments_lexer": "ipython3",
   "version": "3.7.2"
  }
 },
 "nbformat": 4,
 "nbformat_minor": 2
}
