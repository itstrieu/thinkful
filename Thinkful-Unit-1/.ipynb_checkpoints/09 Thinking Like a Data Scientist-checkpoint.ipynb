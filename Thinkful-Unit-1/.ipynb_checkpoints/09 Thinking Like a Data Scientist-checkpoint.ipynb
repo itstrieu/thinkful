{
 "cells": [
  {
   "cell_type": "markdown",
   "metadata": {},
   "source": [
    "As we outlined in the previous section, a lot of data science work can be classified as translation: taking a question and translating it into mathematical or statistical tests or taking statistical results and translating them into something everyone can understand.\n",
    "\n",
    "Below we have a series of questions for you to translate into a technical plan. For each question, describe how you would make it testable and translate it from a general question into something statistically rigorous. Write your answers down in a shareable document and submit the link below.\n",
    "\n",
    "1. You work at an e-commerce company that sells three goods: widgets, doodads, and fizzbangs. The head of advertising asks you which they should feature in their new advertising campaign. You have data on individual visitors' sessions (activity on a website, pageviews, and purchases), as well as whether or not those users converted from an advertisement for that session. You also have the cost and price information for the goods.\n",
    "    \n",
    "2. You work at a web design company that offers to build websites for clients. Signups have slowed, and you are tasked with finding out why. The onboarding funnel has three steps: email and password signup, plan choice, and payment. On a user level you have information on what steps they have completed as well as timestamps for all of those events for the past 3 years. You also have information on marketing spend on a weekly level.\n",
    "\n",
    "3. You work at a hotel website and currently the website ranks search results by price. For simplicity's sake, let's say it's a website for one city with 100 hotels. You are tasked with proposing a better ranking system. You have session information, price information for the hotels, and whether each hotel is currently available.\n",
    "\n",
    "4. You work at a social network, and the management is worried about churn (users stopping using the product). You are tasked with finding out if their churn is atypical. You have three years of data for users with an entry for every time they've logged in, including the timestamp and length of session.\n",
    "\n",
    "Discuss your answers to each of these questions with your mentor during your next session."
   ]
  },
  {
   "cell_type": "markdown",
   "metadata": {},
   "source": [
    "**1. You work at an e-commerce company that sells three goods: widgets, doodads, and fizzbangs. The head of advertising asks you which they should feature in their new advertising campaign. You have data on individual visitors' sessions (activity on a website, pageviews, and purchases), as well as whether or not those users converted from an advertisement for that session. You also have the cost and price information for the goods.**\n",
    "\n",
    "The advertisment featured in the new campaign should be featured because it would help the company to receive more pageviews and purchases. Items that have proven interesting and worth purchasing can be discerned from data on items' pageviews and purchases. \n",
    "\n",
    "The item(s) that receive(s) (for example) more than 2 pageviews from the homepage and also a high percentage of puchases resulting from those pageviews should be featured in the new advertising campaign. Otherwise the chosen item could be chosen based on ranking in terms of pageviews and purchases. \n"
   ]
  },
  {
   "cell_type": "markdown",
   "metadata": {},
   "source": [
    "ex.\n",
    "\n",
    "widget_pageviews.mean()\n",
    "\n",
    "widget_purchases.mean()\n",
    "\n",
    "- a bar plot can show side by side the measures of mean purchases and mean pageviews. \n",
    "\n",
    "If this data doesn't show any kind of variation between the items, perhaps if data on user time spent per page is available that can be used to determine which items the visitor find more interesting in place of page view."
   ]
  },
  {
   "cell_type": "markdown",
   "metadata": {},
   "source": [
    "Data on which visitors arrive from past advertisements could be used to confirm that either the item(s) chosen before successfully (high % clicks from advertisements, compared to those shown advertisements) or unsuccessfully pulled in visitors."
   ]
  },
  {
   "cell_type": "markdown",
   "metadata": {},
   "source": [
    "**2. You work at a web design company that offers to build websites for clients. Signups have slowed, and you are tasked with finding out why. The onboarding funnel has three steps: email and password signup, plan choice, and payment. On a user level you have information on what steps they have completed as well as timestamps for all of those events for the past 3 years. You also have information on marketing spend on a weekly level.**\n",
    "\n",
    "First plot the number of signups for the last three years on a line graph along wtih the amount spent on marketing. Find if there is a correlation. \n",
    "\n",
    "Next, review data on when users drop out of the onboarding process. Adjust the step for ease or reduce plan cost if it's found that users drop out when they see the plan costs. \n"
   ]
  },
  {
   "cell_type": "markdown",
   "metadata": {},
   "source": [
    "**3. You work at a hotel website and currently the website ranks search results by price. For simplicity's sake, let's say it's a website for one city with 100 hotels. You are tasked with proposing a better ranking system. You have session information, price information for the hotels, and whether each hotel is currently available.**\n",
    "\n",
    "The best ranking system for this website would be one that suggests the most appropropriate hotels for the visitor. To do this without user data, it would be fine to recommend the hotels with the most popular rooms that have the best value at the top. \n",
    "\n",
    "We can use both page views and hotel booking data to determine which rooms are most popular by giving a number rating to hotel rooms. This rating would be correlated with the hotel room's number of page views and how quickly rooms are booked once they become available. Then, we can reccommend at the top of the list, the hotel rooms with the highest ratings that are also still available. "
   ]
  },
  {
   "cell_type": "markdown",
   "metadata": {},
   "source": [
    "**4. You work at a social network, and the management is worried about churn (users stopping using the product). You are tasked with finding out if their churn is atypical. You have three years of data for users with an entry for every time they've logged in, including the timestamp and length of session.**\n",
    "\n",
    "I would plot a distribution of the mean times that pass between each users' login during year 1, year 2, and year 3, to see if that distribution changes. \n",
    "\n",
    "To find out if this is atypical I think I would need to find data from other social networks? I am not sure. "
   ]
  }
 ],
 "metadata": {
  "kernelspec": {
   "display_name": "Python 3",
   "language": "python",
   "name": "python3"
  },
  "language_info": {
   "codemirror_mode": {
    "name": "ipython",
    "version": 3
   },
   "file_extension": ".py",
   "mimetype": "text/x-python",
   "name": "python",
   "nbconvert_exporter": "python",
   "pygments_lexer": "ipython3",
   "version": "3.7.2"
  }
 },
 "nbformat": 4,
 "nbformat_minor": 2
}
