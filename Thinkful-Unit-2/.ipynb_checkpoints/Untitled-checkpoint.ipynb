{
 "cells": [
  {
   "cell_type": "code",
   "execution_count": null,
   "metadata": {},
   "outputs": [],
   "source": [
    "def freedom_function(row):\n",
    "    if row['statename'] == 'United States of America':\n",
    "        return \"1\"\n",
    "    if row['statename'] == 'Canada':\n",
    "        return \"1\"\n",
    "    if row['statename'] == 'Denmark':\n",
    "        return \"1\"\n",
    "    return \"0\"\n",
    "    \n",
    "df['free'] = df.apply(lambda row: freedom_function(row), axis=1)"
   ]
  }
 ],
 "metadata": {
  "kernelspec": {
   "display_name": "Python 3",
   "language": "python",
   "name": "python3"
  },
  "language_info": {
   "codemirror_mode": {
    "name": "ipython",
    "version": 3
   },
   "file_extension": ".py",
   "mimetype": "text/x-python",
   "name": "python",
   "nbconvert_exporter": "python",
   "pygments_lexer": "ipython3",
   "version": "3.7.2"
  }
 },
 "nbformat": 4,
 "nbformat_minor": 2
}
