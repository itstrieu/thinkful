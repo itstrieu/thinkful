{
 "cells": [
  {
   "cell_type": "markdown",
   "metadata": {},
   "source": [
    "# Statistics Drill with Python"
   ]
  },
  {
   "cell_type": "code",
   "execution_count": 1,
   "metadata": {},
   "outputs": [
    {
     "name": "stdout",
     "output_type": "stream",
     "text": [
      "mean:  9.857142857142858\n",
      "median:  10\n",
      "mode:  8\n",
      "variance:  6.408163265306122\n",
      "standard deviation:  2.531435020952764\n",
      "standard error:  0.9567925036515135\n"
     ]
    }
   ],
   "source": [
    "import pandas as pd\n",
    "import statistics\n",
    "import numpy as np\n",
    "\n",
    "df = pd.DataFrame()\n",
    "df['age'] = [14, 12, 11, 10, 8, 8, 6]\n",
    "print(\"mean: \", np.mean(df['age']))\n",
    "print(\"median: \", statistics.median(df['age']))\n",
    "print(\"mode: \", statistics.mode(df['age']))\n",
    "print(\"variance: \", np.var(df['age']))\n",
    "print(\"standard deviation: \", np.std(df['age']))\n",
    "print(\"standard error: \", np.std(df['age'])/ np.sqrt(len(df['age'])))"
   ]
  },
  {
   "cell_type": "code",
   "execution_count": 2,
   "metadata": {},
   "outputs": [
    {
     "name": "stdout",
     "output_type": "stream",
     "text": [
      "            age2\n",
      "count   7.000000\n",
      "mean   10.000000\n",
      "std     2.516611\n",
      "min     7.000000\n",
      "25%     8.000000\n",
      "50%    10.000000\n",
      "75%    11.500000\n",
      "max    14.000000\n",
      "variance:  6.333333333333333\n",
      "standard error:  0.8806305718527109\n"
     ]
    }
   ],
   "source": [
    "#age2 is the updated list with a birthday from age 6 to 7. \n",
    "df2 = pd. DataFrame()\n",
    "df2['age2'] = [14, 12, 11, 10, 8, 8, 7]\n",
    "print(df2.describe())\n",
    "print(\"variance: \", df2['age2'].var())\n",
    "print(\"standard error: \",np.std(df2['age2']) / np.sqrt(len(df2['age2'])))"
   ]
  },
  {
   "cell_type": "code",
   "execution_count": 3,
   "metadata": {},
   "outputs": [
    {
     "name": "stdout",
     "output_type": "stream",
     "text": [
      "            age3\n",
      "count   7.000000\n",
      "mean    9.000000\n",
      "std     4.242641\n",
      "min     1.000000\n",
      "25%     7.500000\n",
      "50%    10.000000\n",
      "75%    11.500000\n",
      "max    14.000000\n",
      "variance:  18.0\n",
      "standard error:  1.4846149779161806\n"
     ]
    }
   ],
   "source": [
    "#age3 is the updated list with one less child age 8 and one more child age 1. \n",
    "df3 = pd.DataFrame()\n",
    "df3['age3'] = [14, 12, 11, 10, 8, 7, 1]\n",
    "print(df3.describe())\n",
    "print(\"variance: \", df3['age3'].var())\n",
    "print(\"standard error: \", np.std(df3['age3']) / np.sqrt(len(df3['age3'])))"
   ]
  },
  {
   "cell_type": "code",
   "execution_count": 4,
   "metadata": {},
   "outputs": [
    {
     "name": "stdout",
     "output_type": "stream",
     "text": [
      "            fans\n",
      "count   4.000000\n",
      "mean   16.250000\n",
      "std     7.889867\n",
      "min     5.000000\n",
      "25%    14.000000\n",
      "50%    18.500000\n",
      "75%    20.750000\n",
      "max    23.000000\n",
      "variance:  62.25\n",
      "standard error:  3.944933459514875\n"
     ]
    }
   ],
   "source": [
    "dffans = pd.DataFrame()\n",
    "dffans['fans'] = [20, 23, 17, 5]\n",
    "print(dffans.describe())\n",
    "print(\"variance: \", dffans['fans'].var())\n",
    "print(\"standard error: \", np.std(dffans['fans'] ,ddof=1) / np.sqrt(len(dffans['fans'])))"
   ]
  },
  {
   "cell_type": "markdown",
   "metadata": {},
   "source": [
    "# Statistics Drill by Hand\n",
    "\n",
    "\n",
    "1. Greg was 14, Marcia was 12, Peter was 11, Jan was 10, Bobby was 8, and Cindy was 6 when they started playing the Brady kids on The Brady Bunch. Cousin Oliver was 8 years old when he joined the show. What are the mean, median, and mode of the kids' ages when they first appeared on the show? \n",
    "\n",
    "Greg - 14\n",
    "Marcia - 12\n",
    "Peter - 11\n",
    "Jan - 10\n",
    "Bobby - 8\n",
    "Oliver - 8\n",
    "Cindy - 6\n",
    "\n",
    "mean - 9.857\n",
    "median - 10\n",
    "mode - 8\n",
    "\n",
    "\n",
    "2. What are the variance, standard deviation, and standard error?\n",
    "\n",
    "variance - 7.141\n",
    "standard deviation - 2.672\n",
    "standard error - 1.01\n",
    "\n",
    "\n",
    "3. Using these estimates, if you had to choose only one estimate of central tendency and one estimate of variance to describe the data, which would you pick and why?\n",
    "\n",
    "I would pick the median and standard deviation to describe this data because while the median and mean are both very close, I think with the kind of data (age) we have, it makes more sense to use Jan's age as an approximation of the children's ages. I would use standard deviation because it helps to visualize how the ages deviate from the center.\n",
    "\n",
    "4. Next, Cindy has a birthday. Update your estimates- what changed, and what didn't?\n",
    "\n",
    "Greg - 14\n",
    "Marcia - 12\n",
    "Peter - 11\n",
    "Jan - 10\n",
    "Bobby - 8\n",
    "Oliver - 8\n",
    "Cindy - 7\n",
    "\n",
    "mean - 10\n",
    "median - 10\n",
    "mode - 8\n",
    "\n",
    "variance - 6.33\n",
    "standard deviation - 2.512\n",
    "standard error - 0.951\n",
    "\n",
    "The mean has changed. Variance, standard deviation, and standard error have all decreased.\n",
    "\n",
    "5. Nobody likes Cousin Oliver. Maybe the network should have used an even younger actor. Replace Cousin Oliver with 1-year-old Jessica, then recalculate again. Does this change your choice of central tendency or variance estimation methods?\n",
    "\n",
    "Greg - 14\n",
    "Marcia - 12\n",
    "Peter - 11\n",
    "Jan - 10\n",
    "Bobby - 8\n",
    "Cindy - 7\n",
    "Jessica - 1\n",
    "\n",
    "mean - 9\n",
    "median - 10\n",
    "mode - none\n",
    "\n",
    "variance - 17.33\n",
    "standard deviation - 4.163\n",
    "standard error - 1.574\n",
    "\n",
    "Yes, I would choose the mean and variance to describe the data. Since one of the numbers are very low, I think the mean does a better job of including that information. The variance (and standard deviation) is also very high which seems significant. \n",
    "\n",
    "6. On the 50th anniversary of The Brady Bunch, four different magazines asked their readers whether they were fans of the show. \n",
    "\n",
    "The answers were: \n",
    "TV Guide 20% fans \n",
    "Entertainment Weekly 23% fans \n",
    "Pop Culture Today 17% fans \n",
    "SciPhi Phanatic 5% fans. \n",
    "\n",
    "7. Based on these numbers, what percentage of adult Americans would you estimate were Brady Bunch fans on the 50th anniversary of the show?\n",
    "\n",
    "We are working with a sample of the population. I will calculate the measures of central tendancy. \n",
    "\n",
    "mean - 16.25\n",
    "median - 20\n",
    "mode - none\n",
    "\n",
    "variance - 63.25\n",
    "standard deviation - 7.89\n",
    "standard error - 3.945\n",
    "\n",
    "Based on these results, I don't think I can make a good estimate. But I do not think I have any choice currently but to guess that 16.25 of our adult population were fans of the show. "
   ]
  }
 ],
 "metadata": {
  "kernelspec": {
   "display_name": "Python 3",
   "language": "python",
   "name": "python3"
  },
  "language_info": {
   "codemirror_mode": {
    "name": "ipython",
    "version": 3
   },
   "file_extension": ".py",
   "mimetype": "text/x-python",
   "name": "python",
   "nbconvert_exporter": "python",
   "pygments_lexer": "ipython3",
   "version": "3.7.2"
  }
 },
 "nbformat": 4,
 "nbformat_minor": 2
}
