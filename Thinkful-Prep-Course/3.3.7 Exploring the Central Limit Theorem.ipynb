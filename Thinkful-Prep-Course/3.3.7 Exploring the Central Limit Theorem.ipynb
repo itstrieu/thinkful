{
 "cells": [
  {
   "cell_type": "markdown",
   "metadata": {},
   "source": [
    "Now that you have some code to create your own populations, sample them, and compare the samples to the populations, it's time to experiment. Using your own Jupyter notebook, or a copy of the notebook from the previous assignment, reproduce the pop1 and pop2 populations and samples, using numpy's binomial function. Specifically, create two binomially distributed populations with n equal to 10 and size equal to 10000. The p-value of pop1 should be 0.2 and the p-value of pop2 should be 0.5. Using a sample size of 100, calculate the means and standard deviations of your samples.\n",
    "\n",
    "For each of the following tasks, first write what you expect will happen, then code the changes and observe what does happen. Discuss the results with your mentor.\n",
    "\n",
    "- Increase the size of your samples from 100 to 1000, then calculate the means and standard deviations for your new samples and create histograms for each. Repeat this again, decreasing the size of your samples to 20. What values change, and what remain the same?\n",
    "\n",
    "- Change the probability value (p in the NumPy documentation) for pop1 to 0.3, then take new samples and compute the t-statistic and p-value. Then change the probability value p for group 1 to 0.4, and do it again. What changes, and why?\n",
    "\n",
    "- Change the distribution of your populations from binomial to a distribution of your choice. Do the sample mean values still accurately represent the population values?\n"
   ]
  },
  {
   "cell_type": "code",
   "execution_count": 1,
   "metadata": {},
   "outputs": [
    {
     "name": "stdout",
     "output_type": "stream",
     "text": [
      "Sample Pop 1 mean:  2.0\n",
      "Sample Pop 2 mean:  5.14\n",
      "Sample Pop 1 standard deviation:  1.2083045973594573\n",
      "Sample Pop 2 standard deviation:  1.549322432549145\n"
     ]
    }
   ],
   "source": [
    "import numpy as np\n",
    "import pandas as pd\n",
    "import scipy\n",
    "import matplotlib.pyplot as plt\n",
    "%matplotlib inline\n",
    "\n",
    "pop1 = np.random.binomial(10, 0.2, 10000)\n",
    "pop2 = np.random.binomial(10,0.5, 10000) \n",
    "\n",
    "sample1 = np.random.choice(pop1, 100, replace=True)\n",
    "sample2 = np.random.choice(pop2, 100, replace=True)\n",
    "\n",
    "print(\"Sample Pop 1 mean: \", sample1.mean())\n",
    "print(\"Sample Pop 2 mean: \", sample2.mean())\n",
    "print(\"Sample Pop 1 standard deviation: \", sample1.std())\n",
    "print(\"Sample Pop 2 standard deviation: \", sample2.std())"
   ]
  },
  {
   "cell_type": "markdown",
   "metadata": {},
   "source": [
    "Increase the size of your samples from 100 to 1000, then calculate the means and standard deviations for your new samples and create histograms for each. Repeat this again, decreasing the size of your samples to 20. What values change, and what remain the same?\n",
    "\n",
    "**Prediction:** When increasing the sample size to 1000, I predict the values for Population 1 will remain close to the same. However, values for Population 2 may differ slightly because it has a higher p-value. When decreasing to 20, I predict the values for both population samples will differ more because there are not enough included. "
   ]
  },
  {
   "cell_type": "code",
   "execution_count": 2,
   "metadata": {},
   "outputs": [
    {
     "name": "stdout",
     "output_type": "stream",
     "text": [
      "Sample Pop 1 mean:  1.987\n",
      "Sample Pop 2 mean:  4.945\n",
      "Sample Pop 1 standard deviation:  1.2848466834607153\n",
      "Sample Pop 2 standard deviation:  1.5033213229379807\n"
     ]
    }
   ],
   "source": [
    "sample1 = np.random.choice(pop1, 1000, replace=True)\n",
    "sample2 = np.random.choice(pop2, 1000, replace=True)\n",
    "\n",
    "print(\"Sample Pop 1 mean: \", sample1.mean())\n",
    "print(\"Sample Pop 2 mean: \", sample2.mean())\n",
    "print(\"Sample Pop 1 standard deviation: \", sample1.std())\n",
    "print(\"Sample Pop 2 standard deviation: \", sample2.std())"
   ]
  },
  {
   "cell_type": "code",
   "execution_count": 3,
   "metadata": {},
   "outputs": [
    {
     "name": "stdout",
     "output_type": "stream",
     "text": [
      "Sample Pop 1 mean:  1.95\n",
      "Sample Pop 2 mean:  4.95\n",
      "Sample Pop 1 standard deviation:  1.16081867662439\n",
      "Sample Pop 2 standard deviation:  1.627114009527298\n"
     ]
    }
   ],
   "source": [
    "sample1 = np.random.choice(pop1, 20, replace=True)\n",
    "sample2 = np.random.choice(pop2, 20, replace=True)\n",
    "\n",
    "print(\"Sample Pop 1 mean: \", sample1.mean())\n",
    "print(\"Sample Pop 2 mean: \", sample2.mean())\n",
    "print(\"Sample Pop 1 standard deviation: \", sample1.std())\n",
    "print(\"Sample Pop 2 standard deviation: \", sample2.std())"
   ]
  },
  {
   "cell_type": "markdown",
   "metadata": {},
   "source": [
    "Change the probability value (p in the NumPy documentation) for pop1 to 0.3, then take new samples and compute the t-statistic and p-value. Then change the probability value p for group 1 to 0.4, and do it again. What changes, and why?"
   ]
  },
  {
   "cell_type": "code",
   "execution_count": 18,
   "metadata": {},
   "outputs": [
    {
     "name": "stdout",
     "output_type": "stream",
     "text": [
      "Sample mean:  3.09\n",
      "Sample standard deviation:  1.3863260799682016\n",
      "Sample 2 mean:  2.97\n",
      "Sample 2 standard deviation:  1.431467778191322\n",
      "t-value:  -0.6021868984708987\n",
      "Ttest_indResult(statistic=-0.599168398768744, pvalue=0.5497462357534663)\n"
     ]
    }
   ],
   "source": [
    "pop1 = np.random.binomial(10, 0.3, 10000)\n",
    "sample1 = np.random.choice(pop1, 100, replace=True)\n",
    "print(\"Sample mean: \", sample1.mean())\n",
    "print(\"Sample standard deviation: \", sample1.std())\n",
    "\n",
    "sample2 = np.random.choice(pop1, 100, replace=True)\n",
    "print(\"Sample 2 mean: \", sample2.mean())\n",
    "print(\"Sample 2 standard deviation: \", sample2.std())\n",
    "\n",
    "diff=sample2.mean( )-sample1.mean()\n",
    "size = np.array([len(sample1), len(sample2)])\n",
    "sd = np.array([sample1.std(), sample2.std()])\n",
    "diff_se = (sum(sd ** 2 / size)) ** 0.5  \n",
    "print(\"t-value: \",diff/diff_se)\n",
    "\n",
    "from scipy.stats import ttest_ind\n",
    "print(ttest_ind(sample2, sample1, equal_var=False))"
   ]
  },
  {
   "cell_type": "code",
   "execution_count": 19,
   "metadata": {},
   "outputs": [
    {
     "name": "stdout",
     "output_type": "stream",
     "text": [
      "Sample Pop 1 mean:  3.97\n",
      "Sample Pop 1 standard deviation:  1.5326773959317077\n",
      "Sample 2 mean:  4.05\n",
      "Sample 2 standard deviation:  1.55161206491829\n",
      "t-value:  0.3668104259367122\n",
      "Ttest_indResult(statistic=0.364971765606757, pvalue=0.715522079823731)\n"
     ]
    }
   ],
   "source": [
    "pop1 = np.random.binomial(10, 0.4, 10000)\n",
    "sample1 = np.random.choice(pop1, 100, replace=True)\n",
    "print(\"Sample Pop 1 mean: \", sample1.mean())\n",
    "print(\"Sample Pop 1 standard deviation: \", sample1.std())\n",
    "\n",
    "sample2 = np.random.choice(pop1, 100, replace=True)\n",
    "print(\"Sample 2 mean: \", sample2.mean())\n",
    "print(\"Sample 2 standard deviation: \", sample2.std())\n",
    "\n",
    "diff=sample2.mean( )-sample1.mean()\n",
    "size = np.array([len(sample1), len(sample2)])\n",
    "sd = np.array([sample1.std(), sample2.std()])\n",
    "diff_se = (sum(sd ** 2 / size)) ** 0.5  \n",
    "print(\"t-value: \",diff/diff_se)\n",
    "\n",
    "from scipy.stats import ttest_ind\n",
    "print(ttest_ind(sample2, sample1, equal_var=False))"
   ]
  },
  {
   "cell_type": "markdown",
   "metadata": {},
   "source": [
    "The mean and standard deviation from the first group, with p-value 0.3, differ less from each other each time a random sample is drawn. According to Central Limit Theorem this means the changes in In comparison, the second group has a p-value of 0.4, and each time samples are drawn, the mean and standard deviations differ more."
   ]
  },
  {
   "cell_type": "markdown",
   "metadata": {},
   "source": [
    "Change the distribution of your populations from binomial to a distribution of your choice. Do the sample mean values still accurately represent the population values?"
   ]
  }
 ],
 "metadata": {
  "kernelspec": {
   "display_name": "Python 3",
   "language": "python",
   "name": "python3"
  },
  "language_info": {
   "codemirror_mode": {
    "name": "ipython",
    "version": 3
   },
   "file_extension": ".py",
   "mimetype": "text/x-python",
   "name": "python",
   "nbconvert_exporter": "python",
   "pygments_lexer": "ipython3",
   "version": "3.7.2"
  }
 },
 "nbformat": 4,
 "nbformat_minor": 2
}
