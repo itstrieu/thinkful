{
 "cells": [
  {
   "cell_type": "markdown",
   "metadata": {},
   "source": [
    "# Monty Hall\n",
    "\n",
    "There are three doors and behind one of the doors contains a big prize. \n",
    "I select a door. \n",
    "Monty Hall opens one of the other two doors that does not contain a prize. \n",
    "I have the option of changing doors. \n",
    "\n",
    "At the beginning, I have a 33.3% chance of selecting the correct door and a 66.6% chance of selecting the wrong door. These are the only two possible scenarios. \n",
    "\n",
    "33.3% chance of this scenario occuring:\n",
    "[*] | [x] [x] \n",
    "\n",
    "66.6% chance of this scenario occuring:\n",
    "[x] | [*] [x] \n",
    "\n",
    "\n",
    "I know there's a greater chance (66.6%) I selected the wrong door. Since selecting the wrong door initially and switching would guarantee a chance of winning I should always switch. This means I would only have 33.3% chance of losing when I switch (in the case that I selected the winning door initally) and I have 66.6% chance of winning the prize. \n",
    "\n"
   ]
  }
 ],
 "metadata": {
  "kernelspec": {
   "display_name": "Python 3",
   "language": "python",
   "name": "python3"
  },
  "language_info": {
   "codemirror_mode": {
    "name": "ipython",
    "version": 3
   },
   "file_extension": ".py",
   "mimetype": "text/x-python",
   "name": "python",
   "nbconvert_exporter": "python",
   "pygments_lexer": "ipython3",
   "version": "3.7.2"
  }
 },
 "nbformat": 4,
 "nbformat_minor": 2
}
