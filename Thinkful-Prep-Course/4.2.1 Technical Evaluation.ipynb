{
 "cells": [
  {
   "cell_type": "code",
   "execution_count": 115,
   "metadata": {},
   "outputs": [
    {
     "name": "stdout",
     "output_type": "stream",
     "text": [
      "mean:  24.932607215793055\n",
      "month with most crashes:  1\n",
      "most fatalities:  583\n",
      "% of crashed flights with 1 or more fatalities:  98.19121447028424\n",
      "average percent killed per flight : 82.31319223510565\n"
     ]
    }
   ],
   "source": [
    "import numpy as np\n",
    "import pandas as pd\n",
    "import statistics\n",
    "\n",
    "df = pd.read_csv('plane_crashes_data.csv')\n",
    "\n",
    "conditional = df.loc[(df['year'] >= 1980) & (df['year'] <= 2009)]\n",
    "\n",
    "print(\"mean: \", np.mean(conditional['fatalities']))\n",
    "print(\"month with most crashes: \", statistics.mode(df['month']))\n",
    "print(\"most fatalities: \", np.amax(df['fatalities']))\n",
    "print(\"% of crashed flights with 1 or more fatalities: \", len(df.loc[df[\"fatalities\"] >= 1])/len(df.loc[df[\"fatalities\"]]) * 100)\n",
    "df['percent killed'] = df['fatalities']/df['aboard'] * 100\n",
    "print(\"average percent killed per flight :\", np.mean(df['percent killed']))\n"
   ]
  }
 ],
 "metadata": {
  "kernelspec": {
   "display_name": "Python 3",
   "language": "python",
   "name": "python3"
  },
  "language_info": {
   "codemirror_mode": {
    "name": "ipython",
    "version": 3
   },
   "file_extension": ".py",
   "mimetype": "text/x-python",
   "name": "python",
   "nbconvert_exporter": "python",
   "pygments_lexer": "ipython3",
   "version": "3.7.2"
  }
 },
 "nbformat": 4,
 "nbformat_minor": 2
}
