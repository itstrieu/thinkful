{
 "cells": [
  {
   "cell_type": "markdown",
   "metadata": {},
   "source": [
    "In each of the scenarios, find possible shortcomings of the theoretical or actual data sources to answer the given question. What could be done to either adjust the analysis or reframe the question so that you can answer it accurately?\n",
    "\n",
    "- Data Source: Amsterdam availability data scraped from AirBnB on December 24th. \n",
    "    - What are the popular neighborhoods in Amsterdam? \n",
    "        - December 24th is a holiday, so it would be an exceptional day rather than an average day. Perhaps data collected over a period of time would be more representative of the actual popularity of neighhorhoods as travel destinations. \n",
    "        - Maybe the question can be changed to which neighborhoods are more popular for travelers on Christmas Eve? \n",
    "        - Maybe the study can analyze bookings from an entire year and explore changes in popularity based on season or holiday. \n",
    "        - Additionally, Airbnb is only one way to look at popularity. A decent proportion of the population still use traditional hotel bookings. This would be overlooked. \n",
    "\n",
    "- Data Source: Mental health services use on September 12, 2001 in San Francisco, CA and New York City, NY. \n",
    "    - How do patterns of mental health service use vary between cities?\n",
    "        - This was the day after 9/11 occurred in NYC. \n",
    "\n",
    "- Data Source: Armenian Pub Survey. \n",
    "    - What are the most common reasons Armenians visit local pubs?\n",
    "        - The survey responses seem to have come from mostly students under the age of 30. This sample cannot possiblity represent the actual demographic of Armenian pub visitors. \n"
   ]
  }
 ],
 "metadata": {
  "kernelspec": {
   "display_name": "Python 3",
   "language": "python",
   "name": "python3"
  },
  "language_info": {
   "codemirror_mode": {
    "name": "ipython",
    "version": 3
   },
   "file_extension": ".py",
   "mimetype": "text/x-python",
   "name": "python",
   "nbconvert_exporter": "python",
   "pygments_lexer": "ipython3",
   "version": "3.7.2"
  }
 },
 "nbformat": 4,
 "nbformat_minor": 2
}
