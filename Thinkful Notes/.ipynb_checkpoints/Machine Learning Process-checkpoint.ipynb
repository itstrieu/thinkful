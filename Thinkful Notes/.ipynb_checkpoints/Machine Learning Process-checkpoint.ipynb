{
 "cells": [
  {
   "cell_type": "markdown",
   "metadata": {},
   "source": [
    "# From Dataset to Prediction\n",
    "## Steps to take between data exploration and prediction\n",
    "\n",
    "1. Understand the dataset \n",
    "    * What are the variables?\n",
    "    * What are the variable types? \n",
    "    * Was the dataset put together for a reason? \n",
    "    * How was data the collected?\n",
    "    * Preliminary Thoughts - \n",
    "        * What questions can the dataset answer?\n",
    "        * What model(s) would fit the best?\n",
    "            * Regression or Classification?\n",
    "* Data Cleaning\n",
    "    * Strip white space\n",
    "    * Replace or drop None values\n",
    "    * Check for misspellings and incohesive names\n",
    "    * Remove duplicates\n",
    "    * Handle bias\n",
    "    * Recognize class imbalances\n",
    "* Data Exploration\n",
    "    * Summary Statistics\n",
    "    * Data visualizations\n",
    "* Features Engineering\n",
    "    * Determine research question \n",
    "    * Test individual variables (T-Test)\n",
    "    * Reduce Dimensionality\n",
    "        * Correlation Matrix (reduce multicollinearity)\n",
    "        * PCA\n",
    "        * PLSR\n",
    "    * Engineer new features\n",
    "* Modelling\n",
    "    * Select a model or a few models.\n",
    "        * Models:\n",
    "            * Naive Bayes Classifier\n",
    "            * Simple Linear Regression\n",
    "            * Multivariable Regression\n",
    "            * K Nearest Neighbors Classifiers\n",
    "            * KNN Regression\n",
    "            * Decision Tree\n",
    "            * Random Forest\n",
    "            * Logistic Regression\n",
    "            * Ridge Regression\n",
    "            * Lasso Regression\n",
    "    * Generate predictions.\n",
    "    * Transform variables if necessary.\n",
    "    * Generate more predictions.\n",
    "* Evaluate Model\n",
    "    * If Linear Regression\n",
    "        * Check Four Assumptions:\n",
    "            * Linear Relationship\n",
    "            * Multivariate Normality\n",
    "            * Homoscedasticity\n",
    "            * Low Multicollinearity\n",
    "    * Cross Validation\n",
    "    * F-Test\n",
    "    * Confidence Interval\n",
    "    "
   ]
  },
  {
   "cell_type": "markdown",
   "metadata": {},
   "source": [
    "## Packages and Modules "
   ]
  },
  {
   "cell_type": "markdown",
   "metadata": {},
   "source": [
    "* math\n",
    "* pandas\n",
    "* numpy\n",
    "* matPlotLib\n",
    "* seaborn\n",
    "* sklearn\n",
    "* statsmodels\n",
    "* scipy"
   ]
  },
  {
   "cell_type": "markdown",
   "metadata": {},
   "source": [
    "## Flash Cards\n",
    "\n",
    "https://quizlet.com/_6tlc9r "
   ]
  },
  {
   "cell_type": "markdown",
   "metadata": {},
   "source": [
    "### Non-Linear Transformations"
   ]
  },
  {
   "cell_type": "markdown",
   "metadata": {},
   "source": [
    "\n",
    "\n",
    "|x|x<sup>2</sup>|x<sup>2</sup>/x|log<sub>2</sub>(x)|log_x-x|\n",
    "|-|-|-|-|-|\n",
    "|1|1|1|0|-1|\n",
    "|2|4|2|1|-1|\n",
    "|3|9|3|1.58|-1.42|\n",
    "|4|16|4|2|-2|\n"
   ]
  }
 ],
 "metadata": {
  "kernelspec": {
   "display_name": "Python 3",
   "language": "python",
   "name": "python3"
  },
  "language_info": {
   "codemirror_mode": {
    "name": "ipython",
    "version": 3
   },
   "file_extension": ".py",
   "mimetype": "text/x-python",
   "name": "python",
   "nbconvert_exporter": "python",
   "pygments_lexer": "ipython3",
   "version": "3.7.3"
  }
 },
 "nbformat": 4,
 "nbformat_minor": 2
}
