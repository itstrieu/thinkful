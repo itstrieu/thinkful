{
 "cells": [
  {
   "cell_type": "code",
   "execution_count": 1,
   "metadata": {},
   "outputs": [],
   "source": [
    "import math\n",
    "import warnings\n",
    "\n",
    "from IPython.display import display\n",
    "from matplotlib import pyplot as plt\n",
    "import numpy as np\n",
    "import pandas as pd\n",
    "import seaborn as sns\n",
    "from sklearn import linear_model\n",
    "from sklearn.cross_decomposition import PLSRegression\n",
    "\n",
    "# Display preferences.\n",
    "%matplotlib inline\n",
    "pd.options.display.float_format = '{:.3f}'.format"
   ]
  },
  {
   "cell_type": "markdown",
   "metadata": {},
   "source": [
    "# Challenge: Model Comparison\n",
    "## Thinkful Unit 3, Lesson 1\n",
    "\n",
    "You now know two kinds of regression and two kinds of classifier. So let's use that to compare models!\n",
    "\n",
    "Comparing models is something data scientists do all the time. There's very rarely just one model that would be possible to run for a given situation, so learning to choose the best one is very important.\n",
    "\n",
    "Here let's work on regression. Find a data set and build a KNN Regression and an OLS regression. Compare the two. How similar are they? Do they miss in different ways?\n",
    "\n",
    "Create a Jupyter notebook with your models. At the end in a markdown cell write a few paragraphs to describe the models' behaviors and why you favor one model or the other. Try to determine whether there is a situation where you would change your mind, or whether one is unambiguously better than the other. Lastly, try to note what it is about the data that causes the better model to outperform the weaker model. Submit a link to your notebook below."
   ]
  },
  {
   "cell_type": "code",
   "execution_count": 2,
   "metadata": {
    "scrolled": true
   },
   "outputs": [],
   "source": [
    "data = pd.read_csv('onp.csv')"
   ]
  },
  {
   "cell_type": "code",
   "execution_count": 3,
   "metadata": {},
   "outputs": [],
   "source": [
    "data = data.rename(columns=lambda x: x.strip())"
   ]
  },
  {
   "cell_type": "code",
   "execution_count": 4,
   "metadata": {},
   "outputs": [],
   "source": [
    "def share_fun(row):\n",
    "    if row['shares'] > 1400:\n",
    "        return 1\n",
    "    if row['shares'] <= 1400:\n",
    "        return 0\n",
    "\n",
    "\n",
    "data['shares_binary'] = data.apply(lambda row: share_fun(row), axis=1)\n",
    "data['shares_rate'] = data['shares']/data['timedelta']"
   ]
  },
  {
   "cell_type": "code",
   "execution_count": 5,
   "metadata": {},
   "outputs": [],
   "source": [
    "data = data.drop(['url', 'n_non_stop_words', 'n_non_stop_unique_tokens','kw_max_max', 'kw_avg_max', 'kw_min_avg'], 1)"
   ]
  },
  {
   "cell_type": "code",
   "execution_count": 8,
   "metadata": {},
   "outputs": [
    {
     "data": {
      "text/html": [
       "<div>\n",
       "<style scoped>\n",
       "    .dataframe tbody tr th:only-of-type {\n",
       "        vertical-align: middle;\n",
       "    }\n",
       "\n",
       "    .dataframe tbody tr th {\n",
       "        vertical-align: top;\n",
       "    }\n",
       "\n",
       "    .dataframe thead th {\n",
       "        text-align: right;\n",
       "    }\n",
       "</style>\n",
       "<table border=\"1\" class=\"dataframe\">\n",
       "  <thead>\n",
       "    <tr style=\"text-align: right;\">\n",
       "      <th></th>\n",
       "      <th>timedelta</th>\n",
       "      <th>n_tokens_title</th>\n",
       "      <th>n_tokens_content</th>\n",
       "      <th>n_unique_tokens</th>\n",
       "      <th>num_hrefs</th>\n",
       "      <th>num_self_hrefs</th>\n",
       "      <th>num_imgs</th>\n",
       "      <th>num_videos</th>\n",
       "      <th>average_token_length</th>\n",
       "      <th>num_keywords</th>\n",
       "      <th>...</th>\n",
       "      <th>avg_negative_polarity</th>\n",
       "      <th>min_negative_polarity</th>\n",
       "      <th>max_negative_polarity</th>\n",
       "      <th>title_subjectivity</th>\n",
       "      <th>title_sentiment_polarity</th>\n",
       "      <th>abs_title_subjectivity</th>\n",
       "      <th>abs_title_sentiment_polarity</th>\n",
       "      <th>shares</th>\n",
       "      <th>shares_binary</th>\n",
       "      <th>shares_rate</th>\n",
       "    </tr>\n",
       "  </thead>\n",
       "  <tbody>\n",
       "    <tr>\n",
       "      <th>0</th>\n",
       "      <td>731.000</td>\n",
       "      <td>12.000</td>\n",
       "      <td>219.000</td>\n",
       "      <td>0.664</td>\n",
       "      <td>4.000</td>\n",
       "      <td>2.000</td>\n",
       "      <td>1.000</td>\n",
       "      <td>0.000</td>\n",
       "      <td>4.680</td>\n",
       "      <td>5.000</td>\n",
       "      <td>...</td>\n",
       "      <td>-0.350</td>\n",
       "      <td>-0.600</td>\n",
       "      <td>-0.200</td>\n",
       "      <td>0.500</td>\n",
       "      <td>-0.188</td>\n",
       "      <td>0.000</td>\n",
       "      <td>0.188</td>\n",
       "      <td>593</td>\n",
       "      <td>0</td>\n",
       "      <td>0.811</td>\n",
       "    </tr>\n",
       "    <tr>\n",
       "      <th>1</th>\n",
       "      <td>731.000</td>\n",
       "      <td>9.000</td>\n",
       "      <td>255.000</td>\n",
       "      <td>0.605</td>\n",
       "      <td>3.000</td>\n",
       "      <td>1.000</td>\n",
       "      <td>1.000</td>\n",
       "      <td>0.000</td>\n",
       "      <td>4.914</td>\n",
       "      <td>4.000</td>\n",
       "      <td>...</td>\n",
       "      <td>-0.119</td>\n",
       "      <td>-0.125</td>\n",
       "      <td>-0.100</td>\n",
       "      <td>0.000</td>\n",
       "      <td>0.000</td>\n",
       "      <td>0.500</td>\n",
       "      <td>0.000</td>\n",
       "      <td>711</td>\n",
       "      <td>0</td>\n",
       "      <td>0.973</td>\n",
       "    </tr>\n",
       "    <tr>\n",
       "      <th>2</th>\n",
       "      <td>731.000</td>\n",
       "      <td>9.000</td>\n",
       "      <td>211.000</td>\n",
       "      <td>0.575</td>\n",
       "      <td>3.000</td>\n",
       "      <td>1.000</td>\n",
       "      <td>1.000</td>\n",
       "      <td>0.000</td>\n",
       "      <td>4.393</td>\n",
       "      <td>6.000</td>\n",
       "      <td>...</td>\n",
       "      <td>-0.467</td>\n",
       "      <td>-0.800</td>\n",
       "      <td>-0.133</td>\n",
       "      <td>0.000</td>\n",
       "      <td>0.000</td>\n",
       "      <td>0.500</td>\n",
       "      <td>0.000</td>\n",
       "      <td>1500</td>\n",
       "      <td>1</td>\n",
       "      <td>2.052</td>\n",
       "    </tr>\n",
       "    <tr>\n",
       "      <th>3</th>\n",
       "      <td>731.000</td>\n",
       "      <td>9.000</td>\n",
       "      <td>531.000</td>\n",
       "      <td>0.504</td>\n",
       "      <td>9.000</td>\n",
       "      <td>0.000</td>\n",
       "      <td>1.000</td>\n",
       "      <td>0.000</td>\n",
       "      <td>4.405</td>\n",
       "      <td>7.000</td>\n",
       "      <td>...</td>\n",
       "      <td>-0.370</td>\n",
       "      <td>-0.600</td>\n",
       "      <td>-0.167</td>\n",
       "      <td>0.000</td>\n",
       "      <td>0.000</td>\n",
       "      <td>0.500</td>\n",
       "      <td>0.000</td>\n",
       "      <td>1200</td>\n",
       "      <td>0</td>\n",
       "      <td>1.642</td>\n",
       "    </tr>\n",
       "    <tr>\n",
       "      <th>4</th>\n",
       "      <td>731.000</td>\n",
       "      <td>13.000</td>\n",
       "      <td>1072.000</td>\n",
       "      <td>0.416</td>\n",
       "      <td>19.000</td>\n",
       "      <td>19.000</td>\n",
       "      <td>20.000</td>\n",
       "      <td>0.000</td>\n",
       "      <td>4.683</td>\n",
       "      <td>7.000</td>\n",
       "      <td>...</td>\n",
       "      <td>-0.220</td>\n",
       "      <td>-0.500</td>\n",
       "      <td>-0.050</td>\n",
       "      <td>0.455</td>\n",
       "      <td>0.136</td>\n",
       "      <td>0.045</td>\n",
       "      <td>0.136</td>\n",
       "      <td>505</td>\n",
       "      <td>0</td>\n",
       "      <td>0.691</td>\n",
       "    </tr>\n",
       "  </tbody>\n",
       "</table>\n",
       "<p>5 rows × 57 columns</p>\n",
       "</div>"
      ],
      "text/plain": [
       "   timedelta  n_tokens_title  n_tokens_content  n_unique_tokens  num_hrefs  \\\n",
       "0    731.000          12.000           219.000            0.664      4.000   \n",
       "1    731.000           9.000           255.000            0.605      3.000   \n",
       "2    731.000           9.000           211.000            0.575      3.000   \n",
       "3    731.000           9.000           531.000            0.504      9.000   \n",
       "4    731.000          13.000          1072.000            0.416     19.000   \n",
       "\n",
       "   num_self_hrefs  num_imgs  num_videos  average_token_length  num_keywords  \\\n",
       "0           2.000     1.000       0.000                 4.680         5.000   \n",
       "1           1.000     1.000       0.000                 4.914         4.000   \n",
       "2           1.000     1.000       0.000                 4.393         6.000   \n",
       "3           0.000     1.000       0.000                 4.405         7.000   \n",
       "4          19.000    20.000       0.000                 4.683         7.000   \n",
       "\n",
       "   ...  avg_negative_polarity  min_negative_polarity  max_negative_polarity  \\\n",
       "0  ...                 -0.350                 -0.600                 -0.200   \n",
       "1  ...                 -0.119                 -0.125                 -0.100   \n",
       "2  ...                 -0.467                 -0.800                 -0.133   \n",
       "3  ...                 -0.370                 -0.600                 -0.167   \n",
       "4  ...                 -0.220                 -0.500                 -0.050   \n",
       "\n",
       "   title_subjectivity  title_sentiment_polarity  abs_title_subjectivity  \\\n",
       "0               0.500                    -0.188                   0.000   \n",
       "1               0.000                     0.000                   0.500   \n",
       "2               0.000                     0.000                   0.500   \n",
       "3               0.000                     0.000                   0.500   \n",
       "4               0.455                     0.136                   0.045   \n",
       "\n",
       "   abs_title_sentiment_polarity  shares  shares_binary  shares_rate  \n",
       "0                         0.188     593              0        0.811  \n",
       "1                         0.000     711              0        0.973  \n",
       "2                         0.000    1500              1        2.052  \n",
       "3                         0.000    1200              0        1.642  \n",
       "4                         0.136     505              0        0.691  \n",
       "\n",
       "[5 rows x 57 columns]"
      ]
     },
     "execution_count": 8,
     "metadata": {},
     "output_type": "execute_result"
    }
   ],
   "source": [
    "data.head()"
   ]
  },
  {
   "cell_type": "code",
   "execution_count": 8,
   "metadata": {},
   "outputs": [],
   "source": [
    "features=data.columns[7:54]"
   ]
  },
  {
   "cell_type": "markdown",
   "metadata": {},
   "source": [
    "# OLS Regression"
   ]
  },
  {
   "cell_type": "code",
   "execution_count": 10,
   "metadata": {},
   "outputs": [],
   "source": [
    "regr = linear_model.LinearRegression()\n",
    "X = data[features]\n",
    "Y = data['shares_rate']"
   ]
  },
  {
   "cell_type": "code",
   "execution_count": 18,
   "metadata": {},
   "outputs": [
    {
     "name": "stdout",
     "output_type": "stream",
     "text": [
      "\n",
      "Coefficients: \n",
      " [-2.54180515e-01 -4.28620751e+00  2.77300331e-01 -5.62008373e+00\n",
      " -7.75097775e+00 -3.27500877e+00 -4.45398151e+00 -2.78218766e+00\n",
      "  5.15589956e+00 -3.42364570e-02  2.23275234e-03 -1.51480011e-02\n",
      " -1.39296726e-05 -1.22938286e-03  1.00220881e-02  6.77733366e-05\n",
      " -2.63254964e-06 -1.48921402e-05  3.18415003e+00  3.66340052e-01\n",
      " -1.80984408e+00 -2.11552663e+00 -1.25076792e+00  6.40119546e-01\n",
      "  9.85529003e-01  1.62564855e+00  4.99078062e+00  1.06715864e+01\n",
      " -2.12308057e+00  1.15717868e+01  5.91490617e+00  1.06136656e+01\n",
      "  3.83782022e+00 -1.34615404e+02 -1.71254179e+02 -2.93395516e+01\n",
      " -2.26647301e+01 -1.95961250e+01 -8.33154546e+00  5.70195801e+00\n",
      " -3.52344318e+00 -5.70107017e+00  4.47908578e+00 -3.03475028e+00\n",
      "  1.72638551e+00 -1.13408270e+00  2.79349898e+00]\n",
      "\n",
      "Intercept: \n",
      " 43.004215039672665\n",
      "\n",
      "R-squared:\n",
      "0.030492766099896044\n",
      "R-squared PLSR: 0.02974389748580619\n"
     ]
    }
   ],
   "source": [
    "regr.fit(X,Y)\n",
    "\n",
    "Y_pred = regr.predict(X)\n",
    "\n",
    "print('\\nCoefficients: \\n', regr.coef_)\n",
    "print('\\nIntercept: \\n', regr.intercept_)\n",
    "print('\\nR-squared:')\n",
    "print(regr.score(X, Y))\n",
    "\n",
    "\n",
    "pls1 = PLSRegression(n_components=7)\n",
    "pls1.fit(X, Y)\n",
    "\n",
    "Y_PLS_pred = pls1.predict(X)\n",
    "print('R-squared PLSR:', pls1.score(X, Y))"
   ]
  },
  {
   "cell_type": "code",
   "execution_count": 12,
   "metadata": {},
   "outputs": [
    {
     "data": {
      "image/png": "[encoded data removed]",
      "text/plain": [
       "<Figure size 432x288 with 1 Axes>"
      ]
     },
     "metadata": {
      "needs_background": "light"
     },
     "output_type": "display_data"
    }
   ],
   "source": [
    "# Extract predicted values.\n",
    "predicted = regr.predict(X)\n",
    "actual = Y\n",
    "\n",
    "# Calculate the error, also called the residual.\n",
    "residual = actual - predicted\n",
    "\n",
    "plt.scatter(predicted, residual)\n",
    "plt.xlabel('Predicted')\n",
    "plt.ylabel('Residual')\n",
    "plt.axhline(y=0)\n",
    "plt.title('Residual vs. Predicted')\n",
    "plt.show()"
   ]
  },
  {
   "cell_type": "code",
   "execution_count": 7,
   "metadata": {},
   "outputs": [
    {
     "ename": "NameError",
     "evalue": "name 'X' is not defined",
     "output_type": "error",
     "traceback": [
      "\u001b[1;31m---------------------------------------------------------------------------\u001b[0m",
      "\u001b[1;31mNameError\u001b[0m                                 Traceback (most recent call last)",
      "\u001b[1;32m<ipython-input-7-fbc371bc1ba8>\u001b[0m in \u001b[0;36m<module>\u001b[1;34m\u001b[0m\n\u001b[1;32m----> 1\u001b[1;33m \u001b[0mcorrelation_matrix\u001b[0m \u001b[1;33m=\u001b[0m \u001b[0mX\u001b[0m\u001b[1;33m.\u001b[0m\u001b[0mcorr\u001b[0m\u001b[1;33m(\u001b[0m\u001b[1;33m)\u001b[0m\u001b[1;33m\u001b[0m\u001b[1;33m\u001b[0m\u001b[0m\n\u001b[0m\u001b[0;32m      2\u001b[0m \u001b[0mdisplay\u001b[0m\u001b[1;33m(\u001b[0m\u001b[0mcorrelation_matrix\u001b[0m\u001b[1;33m)\u001b[0m\u001b[1;33m\u001b[0m\u001b[1;33m\u001b[0m\u001b[0m\n",
      "\u001b[1;31mNameError\u001b[0m: name 'X' is not defined"
     ]
    }
   ],
   "source": [
    "correlation_matrix = X.corr()\n",
    "display(correlation_matrix)"
   ]
  },
  {
   "cell_type": "code",
   "execution_count": 14,
   "metadata": {},
   "outputs": [
    {
     "name": "stdout",
     "output_type": "stream",
     "text": [
      "With 25% Holdout: 0.03337229796871377\n",
      "Testing on Sample: 0.030492766099896044\n"
     ]
    }
   ],
   "source": [
    "from sklearn.model_selection import train_test_split\n",
    "# Use train_test_split to create the necessary training and test groups\n",
    "\n",
    "X_train, X_test, Y_train, Y_test = train_test_split(X, Y, test_size=0.4)\n",
    "print('With 25% Holdout: ' + str(regr.fit(X_train, Y_train).score(X_test, Y_test)))\n",
    "print('Testing on Sample: ' + str(regr.fit(X, Y).score(X, Y)))\n"
   ]
  },
  {
   "cell_type": "markdown",
   "metadata": {},
   "source": [
    "# KNN Regression"
   ]
  },
  {
   "cell_type": "code",
   "execution_count": 15,
   "metadata": {},
   "outputs": [
    {
     "data": {
      "text/plain": [
       "0.22771154923773473"
      ]
     },
     "execution_count": 15,
     "metadata": {},
     "output_type": "execute_result"
    }
   ],
   "source": [
    "from sklearn import neighbors\n",
    "\n",
    "# Build our model.\n",
    "knn = neighbors.KNeighborsRegressor(n_neighbors=5)\n",
    "\n",
    "X_train, X_test, Y_train, Y_test = train_test_split(X, Y, test_size=0.2)\n",
    "\n",
    "\n",
    "knn.fit(X_test, Y_test)\n",
    "knn.score(X_test, Y_test)"
   ]
  },
  {
   "cell_type": "code",
   "execution_count": 16,
   "metadata": {},
   "outputs": [
    {
     "name": "stdout",
     "output_type": "stream",
     "text": [
      "[-2.05921938 -3.28022344 -2.13205027 -5.10400743 -0.64697581 -0.66795604\n",
      " -1.02445076 -1.71539797 -0.58185422 -0.09548842]\n"
     ]
    }
   ],
   "source": [
    "from sklearn.model_selection import cross_val_score\n",
    "score = cross_val_score(knn, X, Y, cv=10)\n",
    "print(score)"
   ]
  },
  {
   "cell_type": "markdown",
   "metadata": {},
   "source": [
    "# Reflection on Model Comparison"
   ]
  },
  {
   "cell_type": "markdown",
   "metadata": {},
   "source": [
    "I was able to get better predictions from the KNN Regression model. However, I wasn't able to get very good predictions from either model. The dataset I chose came with many features. I attempted to reduce the features using PLSR, but that didn't help me to understand which features to keep and which to remove. \n",
    "\n",
    "I know that I need to transform my values in order to create better models, but I'm not exactly sure how to do that with the amount of features I am working with."
   ]
  }
 ],
 "metadata": {
  "kernelspec": {
   "display_name": "Python 3",
   "language": "python",
   "name": "python3"
  },
  "language_info": {
   "codemirror_mode": {
    "name": "ipython",
    "version": 3
   },
   "file_extension": ".py",
   "mimetype": "text/x-python",
   "name": "python",
   "nbconvert_exporter": "python",
   "pygments_lexer": "ipython3",
   "version": "3.7.3"
  }
 },
 "nbformat": 4,
 "nbformat_minor": 2
}
